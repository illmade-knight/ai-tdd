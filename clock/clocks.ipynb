{
 "cells": [
  {
   "cell_type": "markdown",
   "id": "8c61c47e-0ea5-4ef9-ac99-639e899ddfe0",
   "metadata": {},
   "source": [
    "### Sketching\n",
    "\n",
    "we want somewhere programmy where we can sketch ideas - I actually think notebooks come close to being something much more inportant but I might go on about that later..."
   ]
  },
  {
   "cell_type": "code",
   "execution_count": 1,
   "id": "6e43d9d4-bf94-4467-8b5c-9ee4f8a05ecf",
   "metadata": {},
   "outputs": [],
   "source": [
    "import math\n",
    "import matplotlib.pyplot as plt"
   ]
  },
  {
   "cell_type": "markdown",
   "id": "746be600-982c-4a76-b82a-d6c61099897e",
   "metadata": {},
   "source": [
    "there must be better things for drawing than pyplot but for the moment that's what I'll use\n",
    "\n",
    "here's some very basic clock stuff:"
   ]
  },
  {
   "cell_type": "code",
   "execution_count": 24,
   "id": "6eefee0e-e6b4-4ec5-8cf5-fbbccf20bc5a",
   "metadata": {},
   "outputs": [],
   "source": [
    "circle = math.pi * 2\n",
    "minute = circle / 60\n",
    "# we have 60 seconds and 60 minutes\n",
    "second = minute\n",
    "hour = circle / 12\n",
    "\n",
    "start = math.pi / 2\n",
    "\n",
    "def point(rad, ratio):\n",
    "    return math.cos(start - rad*ratio), math.sin(start - rad*ratio)"
   ]
  },
  {
   "cell_type": "code",
   "execution_count": 26,
   "id": "2c6f69e6-7956-4f0e-a0ae-34f6c0ee3fc7",
   "metadata": {},
   "outputs": [
    {
     "data": {
      "text/plain": [
       "-1.0"
      ]
     },
     "execution_count": 26,
     "metadata": {},
     "output_type": "execute_result"
    }
   ],
   "source": [
    "math.sin(start - 6 * circle / 12)"
   ]
  },
  {
   "cell_type": "markdown",
   "id": "e4289bee-a8e8-4495-8e7b-3c33057352bf",
   "metadata": {},
   "source": [
    "## Unit circle\n",
    "\n",
    "the unit circle is useful - here's something the gitbook kinda misses out on imo: we know a lot about unit circles and we can use things we know about them to test things in our implementation that *aren't used* in that implementation.\n",
    "\n",
    "Why does that matter? I think there's a habit in a lot of testing to place the same logic in the test as is in the thing being tested - so if you get it wrong, it's wrong. The downside of course is if you get the thinking wrong in the test then you can waste a lot of time going back and forward (but hey that's testing...)"
   ]
  },
  {
   "cell_type": "code",
   "execution_count": 3,
   "id": "8e409764-5911-45c9-a9ee-04072506c6b8",
   "metadata": {},
   "outputs": [
    {
     "data": {
      "text/plain": [
       "((0.7071067811865476, 0.7071067811865476), (0.8660254037844386, 0.5))"
      ]
     },
     "execution_count": 3,
     "metadata": {},
     "output_type": "execute_result"
    }
   ],
   "source": [
    "fourtyFiveDegrees = math.cos(start - math.pi/4), math.sin(start - math.pi/4)\n",
    "sixtyDegrees = math.cos(start - math.pi/3), math.sin(start - math.pi/3)\n",
    "\n",
    "fourtyFiveDegrees, sixtyDegrees"
   ]
  },
  {
   "cell_type": "markdown",
   "id": "fff28527-f22c-43a4-9eb9-b12bd320e231",
   "metadata": {},
   "source": [
    "## Precision\n",
    "\n",
    "We know stuff about clocks too\n",
    "\n",
    "our unit circle has centre 0, 0\n",
    "\n",
    "at 3 o'clock wwe expect hour hand's tip to be at x,y poiot 1, 0 \n",
    "\n",
    "the minute hand will get here in 15 minutes\n",
    "\n",
    "at 6 the hour hand should point straight down, the same for 30 minutes"
   ]
  },
  {
   "cell_type": "code",
   "execution_count": 7,
   "id": "e892a993-d4d8-4fdf-b622-dbe01f77c4a5",
   "metadata": {},
   "outputs": [
    {
     "data": {
      "text/plain": [
       "((1.0, 0.0),\n",
       " (1.0, 0.0),\n",
       " (6.123233995736766e-17, -1.0),\n",
       " (6.123233995736766e-17, -1.0))"
      ]
     },
     "execution_count": 7,
     "metadata": {},
     "output_type": "execute_result"
    }
   ],
   "source": [
    "point(3, hour), point(15, minute), point(6, hour), point(30, minute)"
   ]
  },
  {
   "cell_type": "markdown",
   "id": "56ea88ba-1d92-4b8b-a5d0-d8e77413253e",
   "metadata": {},
   "source": [
    "all good but our precision starts messing up, we'll need to account for this in our tests"
   ]
  },
  {
   "cell_type": "markdown",
   "id": "465493fd-2f77-4922-a327-f44ca09ccda5",
   "metadata": {},
   "source": [
    "### In between\n",
    "\n",
    "Do our hands 'tick' or move smoothly?\n",
    "* the hour hand we'll definitely want to move as the minute hand moves\n",
    "* but I think the minute hand should 'tick' from 1 to 2, 2 to 3 and not mark subdivisions\n",
    "\n",
    "we could have a flag passed in but instead I'm going to fix this for now\n",
    "\n",
    "so at 6:30 we'd expect the hour hand to be half way between 6 and 7"
   ]
  },
  {
   "cell_type": "code",
   "execution_count": 19,
   "id": "cd347230-795d-4479-8a18-9d27d3fb0370",
   "metadata": {},
   "outputs": [
    {
     "data": {
      "text/plain": [
       "(6.5,\n",
       " (-0.2588190451025204, -0.9659258262890684),\n",
       " (-0.4999999999999998, -0.8660254037844387))"
      ]
     },
     "execution_count": 19,
     "metadata": {},
     "output_type": "execute_result"
    }
   ],
   "source": [
    "time = {'hour': 6, 'minute': 30}\n",
    "\n",
    "hour_hand = time['hour'] + time['minute']/60\n",
    "\n",
    "hour_hand, point(hour_hand, hour), point(7, hour)"
   ]
  },
  {
   "cell_type": "code",
   "execution_count": 21,
   "id": "363e8568-5a1e-42a7-9397-b8430929afef",
   "metadata": {},
   "outputs": [
    {
     "data": {
      "image/png": "[encoded data removed]",
      "text/plain": [
       "<Figure size 640x480 with 1 Axes>"
      ]
     },
     "metadata": {},
     "output_type": "display_data"
    }
   ],
   "source": [
    "x1, y1 = [0, 0], [0, -1]\n",
    "x2, y2 = [0, -0.2588190451025204], [0, -0.9659258262890684]\n",
    "x3, y3 = [0, -0.4999999999999998], [0, -0.8660254037844387]\n",
    "plt.plot(x1, y1, x2, y2, x3, y3, marker = 'o')\n",
    "plt.show()"
   ]
  },
  {
   "cell_type": "markdown",
   "id": "6aacca34-5513-4d83-863f-3795f88de3fb",
   "metadata": {},
   "source": [
    "## Different length\n",
    "hands\n",
    "\n",
    "we'll want to have display the hands at different lengths.\n",
    "\n",
    "not a problem we'll just scale the vector\n",
    "\n",
    "we can check this doesn't mess things up by using slope"
   ]
  },
  {
   "cell_type": "code",
   "execution_count": 9,
   "id": "44e66dbe-e71b-4cd2-8578-c69632302b12",
   "metadata": {},
   "outputs": [
    {
     "data": {
      "text/plain": [
       "1.0"
      ]
     },
     "execution_count": 9,
     "metadata": {},
     "output_type": "execute_result"
    }
   ],
   "source": [
    "def slope(pt):\n",
    "    return pt[1] / pt[0]\n",
    "\n",
    "slope(point(7.5, minute))"
   ]
  },
  {
   "cell_type": "markdown",
   "id": "d2f1eb5d-9307-41a1-9aa3-ea664b40c7d4",
   "metadata": {},
   "source": [
    "so if we scale the hour hand to .8 of the unit circle we can verify the slope stays the same:"
   ]
  },
  {
   "cell_type": "code",
   "execution_count": 14,
   "id": "06a0a9b3-d636-4ada-b5dc-576094b21f75",
   "metadata": {},
   "outputs": [
    {
     "data": {
      "text/plain": [
       "(1.0, True)"
      ]
     },
     "execution_count": 14,
     "metadata": {},
     "output_type": "execute_result"
    }
   ],
   "source": [
    "hour_length = 0.8\n",
    "\n",
    "halfOne = point(1.5, hour)\n",
    "\n",
    "halfOnePt = halfOne[0] * hour_length, halfOne[1] * hour_length\n",
    "\n",
    "slope(halfOnePt), slope(halfOnePt) == slope(halfOne)"
   ]
  },
  {
   "cell_type": "markdown",
   "id": "c09a0695-f481-4468-86b0-5cf2a4d4095e",
   "metadata": {},
   "source": [
    "other stuff we might use:\n",
    "\n",
    "well we know about rotations, just note it down here, but I think it's time to get to the [prompt](readme.md)"
   ]
  },
  {
   "cell_type": "code",
   "execution_count": 15,
   "id": "9bf26179-fe45-4ff4-ab22-445f576233b2",
   "metadata": {},
   "outputs": [
    {
     "data": {
      "text/plain": [
       "(-1.0, 1.2246467991473532e-16)"
      ]
     },
     "execution_count": 15,
     "metadata": {},
     "output_type": "execute_result"
    }
   ],
   "source": [
    "def rotate(pt, rad):\n",
    "    x, y = pt\n",
    "    xr = x * math.cos(rad) - (y * math.sin(rad))\n",
    "    yr  = y * math.cos(rad) + (x * math.sin(rad))\n",
    "    return (xr, yr) \n",
    "\n",
    "rotate((1,0), math.pi)"
   ]
  }
 ],
 "metadata": {
  "kernelspec": {
   "display_name": "Python 3 (ipykernel)",
   "language": "python",
   "name": "python3"
  },
  "language_info": {
   "codemirror_mode": {
    "name": "ipython",
    "version": 3
   },
   "file_extension": ".py",
   "mimetype": "text/x-python",
   "name": "python",
   "nbconvert_exporter": "python",
   "pygments_lexer": "ipython3",
   "version": "3.11.7"
  }
 },
 "nbformat": 4,
 "nbformat_minor": 5
}
